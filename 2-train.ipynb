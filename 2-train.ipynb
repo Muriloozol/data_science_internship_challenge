{
 "cells": [
  {
   "cell_type": "markdown",
   "id": "54feaa1a-93ab-476b-a117-62e09c347d35",
   "metadata": {},
   "source": [
    "### References\n",
    "- https://estevestoni.medium.com/agrupando-conceitos-e-classificando-imagens-com-deep-learning-5b2674f99539\n"
   ]
  },
  {
   "cell_type": "code",
   "execution_count": 1,
   "id": "6de5e0f1-a308-46b6-93bb-1229fb783ce4",
   "metadata": {
    "tags": []
   },
   "outputs": [
    {
     "name": "stderr",
     "output_type": "stream",
     "text": [
      "2022-02-03 22:47:11.784301: W tensorflow/stream_executor/platform/default/dso_loader.cc:64] Could not load dynamic library 'libcudart.so.11.0'; dlerror: libcudart.so.11.0: cannot open shared object file: No such file or directory; LD_LIBRARY_PATH: /home/murilo/Code/pyProjects/cat_dog_classification/lib/python3.8/site-packages/cv2/../../lib64:/opt/ThirdParty-8/platforms/linux64Gcc/gperftools-svn/lib:/opt/openfoam8/platforms/linux64GccDPInt32Opt/lib/paraview-5.6:/opt/paraviewopenfoam56/lib:/opt/openfoam8/platforms/linux64GccDPInt32Opt/lib/openmpi-system:/opt/ThirdParty-8/platforms/linux64GccDPInt32/lib/openmpi-system:/usr/lib/x86_64-linux-gnu/openmpi/lib:/home/murilo/OpenFOAM/murilo-8/platforms/linux64GccDPInt32Opt/lib:/opt/site/8/platforms/linux64GccDPInt32Opt/lib:/opt/openfoam8/platforms/linux64GccDPInt32Opt/lib:/opt/ThirdParty-8/platforms/linux64GccDPInt32/lib:/opt/openfoam8/platforms/linux64GccDPInt32Opt/lib/dummy\n",
      "2022-02-03 22:47:11.784340: I tensorflow/stream_executor/cuda/cudart_stub.cc:29] Ignore above cudart dlerror if you do not have a GPU set up on your machine.\n"
     ]
    }
   ],
   "source": [
    "import cv2\n",
    "from keras.utils import np_utils\n",
    "from sklearn.metrics import classification_report\n",
    "from sklearn.model_selection import train_test_split\n",
    "import matplotlib.pyplot as plt\n",
    "from keras.preprocessing.image import ImageDataGenerator\n",
    "import pandas as pd"
   ]
  },
  {
   "cell_type": "code",
   "execution_count": 2,
   "id": "8996a349-457a-4188-b184-733cd0e79f9a",
   "metadata": {
    "tags": []
   },
   "outputs": [
    {
     "data": {
      "text/html": [
       "<div>\n",
       "<style scoped>\n",
       "    .dataframe tbody tr th:only-of-type {\n",
       "        vertical-align: middle;\n",
       "    }\n",
       "\n",
       "    .dataframe tbody tr th {\n",
       "        vertical-align: top;\n",
       "    }\n",
       "\n",
       "    .dataframe thead th {\n",
       "        text-align: right;\n",
       "    }\n",
       "</style>\n",
       "<table border=\"1\" class=\"dataframe\">\n",
       "  <thead>\n",
       "    <tr style=\"text-align: right;\">\n",
       "      <th></th>\n",
       "      <th>filename</th>\n",
       "      <th>filepath</th>\n",
       "      <th>breed</th>\n",
       "      <th>extension</th>\n",
       "      <th>cat_or_dog</th>\n",
       "    </tr>\n",
       "  </thead>\n",
       "  <tbody>\n",
       "    <tr>\n",
       "      <th>0</th>\n",
       "      <td>Abyssinian_100.jpg</td>\n",
       "      <td>./data/images/Abyssinian_100.jpg</td>\n",
       "      <td>Abyssinian</td>\n",
       "      <td>.jpg</td>\n",
       "      <td>cat</td>\n",
       "    </tr>\n",
       "    <tr>\n",
       "      <th>2</th>\n",
       "      <td>Abyssinian_101.jpg</td>\n",
       "      <td>./data/images/Abyssinian_101.jpg</td>\n",
       "      <td>Abyssinian</td>\n",
       "      <td>.jpg</td>\n",
       "      <td>cat</td>\n",
       "    </tr>\n",
       "    <tr>\n",
       "      <th>4</th>\n",
       "      <td>Abyssinian_102.jpg</td>\n",
       "      <td>./data/images/Abyssinian_102.jpg</td>\n",
       "      <td>Abyssinian</td>\n",
       "      <td>.jpg</td>\n",
       "      <td>cat</td>\n",
       "    </tr>\n",
       "    <tr>\n",
       "      <th>6</th>\n",
       "      <td>Abyssinian_103.jpg</td>\n",
       "      <td>./data/images/Abyssinian_103.jpg</td>\n",
       "      <td>Abyssinian</td>\n",
       "      <td>.jpg</td>\n",
       "      <td>cat</td>\n",
       "    </tr>\n",
       "    <tr>\n",
       "      <th>7</th>\n",
       "      <td>Abyssinian_104.jpg</td>\n",
       "      <td>./data/images/Abyssinian_104.jpg</td>\n",
       "      <td>Abyssinian</td>\n",
       "      <td>.jpg</td>\n",
       "      <td>cat</td>\n",
       "    </tr>\n",
       "    <tr>\n",
       "      <th>...</th>\n",
       "      <td>...</td>\n",
       "      <td>...</td>\n",
       "      <td>...</td>\n",
       "      <td>...</td>\n",
       "      <td>...</td>\n",
       "    </tr>\n",
       "    <tr>\n",
       "      <th>7388</th>\n",
       "      <td>yorkshire_terrier_96.jpg</td>\n",
       "      <td>./data/images/yorkshire_terrier_96.jpg</td>\n",
       "      <td>yorkshire_terrier</td>\n",
       "      <td>.jpg</td>\n",
       "      <td>dog</td>\n",
       "    </tr>\n",
       "    <tr>\n",
       "      <th>7389</th>\n",
       "      <td>yorkshire_terrier_97.jpg</td>\n",
       "      <td>./data/images/yorkshire_terrier_97.jpg</td>\n",
       "      <td>yorkshire_terrier</td>\n",
       "      <td>.jpg</td>\n",
       "      <td>dog</td>\n",
       "    </tr>\n",
       "    <tr>\n",
       "      <th>7390</th>\n",
       "      <td>yorkshire_terrier_98.jpg</td>\n",
       "      <td>./data/images/yorkshire_terrier_98.jpg</td>\n",
       "      <td>yorkshire_terrier</td>\n",
       "      <td>.jpg</td>\n",
       "      <td>dog</td>\n",
       "    </tr>\n",
       "    <tr>\n",
       "      <th>7391</th>\n",
       "      <td>yorkshire_terrier_99.jpg</td>\n",
       "      <td>./data/images/yorkshire_terrier_99.jpg</td>\n",
       "      <td>yorkshire_terrier</td>\n",
       "      <td>.jpg</td>\n",
       "      <td>dog</td>\n",
       "    </tr>\n",
       "    <tr>\n",
       "      <th>7392</th>\n",
       "      <td>yorkshire_terrier_9.jpg</td>\n",
       "      <td>./data/images/yorkshire_terrier_9.jpg</td>\n",
       "      <td>yorkshire_terrier</td>\n",
       "      <td>.jpg</td>\n",
       "      <td>dog</td>\n",
       "    </tr>\n",
       "  </tbody>\n",
       "</table>\n",
       "<p>7390 rows × 5 columns</p>\n",
       "</div>"
      ],
      "text/plain": [
       "                      filename                                filepath  \\\n",
       "0           Abyssinian_100.jpg        ./data/images/Abyssinian_100.jpg   \n",
       "2           Abyssinian_101.jpg        ./data/images/Abyssinian_101.jpg   \n",
       "4           Abyssinian_102.jpg        ./data/images/Abyssinian_102.jpg   \n",
       "6           Abyssinian_103.jpg        ./data/images/Abyssinian_103.jpg   \n",
       "7           Abyssinian_104.jpg        ./data/images/Abyssinian_104.jpg   \n",
       "...                        ...                                     ...   \n",
       "7388  yorkshire_terrier_96.jpg  ./data/images/yorkshire_terrier_96.jpg   \n",
       "7389  yorkshire_terrier_97.jpg  ./data/images/yorkshire_terrier_97.jpg   \n",
       "7390  yorkshire_terrier_98.jpg  ./data/images/yorkshire_terrier_98.jpg   \n",
       "7391  yorkshire_terrier_99.jpg  ./data/images/yorkshire_terrier_99.jpg   \n",
       "7392   yorkshire_terrier_9.jpg   ./data/images/yorkshire_terrier_9.jpg   \n",
       "\n",
       "                  breed extension cat_or_dog  \n",
       "0            Abyssinian      .jpg        cat  \n",
       "2            Abyssinian      .jpg        cat  \n",
       "4            Abyssinian      .jpg        cat  \n",
       "6            Abyssinian      .jpg        cat  \n",
       "7            Abyssinian      .jpg        cat  \n",
       "...                 ...       ...        ...  \n",
       "7388  yorkshire_terrier      .jpg        dog  \n",
       "7389  yorkshire_terrier      .jpg        dog  \n",
       "7390  yorkshire_terrier      .jpg        dog  \n",
       "7391  yorkshire_terrier      .jpg        dog  \n",
       "7392  yorkshire_terrier      .jpg        dog  \n",
       "\n",
       "[7390 rows x 5 columns]"
      ]
     },
     "execution_count": 2,
     "metadata": {},
     "output_type": "execute_result"
    }
   ],
   "source": [
    "df = pd.read_csv('./data/dataframe.csv', index_col='Unnamed: 0')\n",
    "df"
   ]
  },
  {
   "cell_type": "code",
   "execution_count": 3,
   "id": "f3783474-6951-4917-89a4-d086349b606c",
   "metadata": {
    "tags": []
   },
   "outputs": [],
   "source": [
    "import os\n",
    "path = './data/pets/'\n",
    "try:\n",
    "    os.makedirs(name=path + 'cat')\n",
    "    os.makedirs(name=path + 'dog')\n",
    "    for index, data in df.iterrows():\n",
    "        os.rename(data['filepath'], path+data['cat_or_dog']+'/'+data['filename'])\n",
    "except FileExistsError:\n",
    "    pass\n"
   ]
  },
  {
   "cell_type": "code",
   "execution_count": 14,
   "id": "f57d021f-4a47-4237-8527-be33c0832769",
   "metadata": {
    "tags": []
   },
   "outputs": [],
   "source": [
    "image_gen = ImageDataGenerator(rotation_range=30,\n",
    "                              width_shift_range=0.1,\n",
    "                              height_shift_range=0.1,\n",
    "                              rescale=1/225,\n",
    "                              shear_range=0.2,\n",
    "                              zoom_range=0.2,\n",
    "                              horizontal_flip=True,\n",
    "                              fill_mode='nearest',\n",
    "                              validation_split=0.2)"
   ]
  },
  {
   "cell_type": "code",
   "execution_count": 5,
   "id": "95578db0-869e-4760-bd35-d4589028ed45",
   "metadata": {},
   "outputs": [],
   "source": [
    "# X_train, X_test, y_train, y_test = train_test_split(df.drop(['cat_or_dog'], axis=1),\n",
    "#                                                     df['cat_or_dog'],\n",
    "#                                                     train_size=0.8, \n",
    "#                                                     random_state=42)\n",
    "# df = X_train.join(y_train)"
   ]
  },
  {
   "cell_type": "code",
   "execution_count": 12,
   "id": "e9691cad-dd8f-44bb-9c64-af55a13d9438",
   "metadata": {},
   "outputs": [
    {
     "name": "stdout",
     "output_type": "stream",
     "text": [
      "Found 7390 images belonging to 2 classes.\n"
     ]
    },
    {
     "data": {
      "text/plain": [
       "<keras.preprocessing.image.DirectoryIterator at 0x7f5ce00753a0>"
      ]
     },
     "execution_count": 12,
     "metadata": {},
     "output_type": "execute_result"
    }
   ],
   "source": [
    "image_gen.flow_from_directory('./data/pets')"
   ]
  },
  {
   "cell_type": "code",
   "execution_count": 7,
   "id": "a46e9d9b-d576-4a4c-b4d4-860ee4946844",
   "metadata": {},
   "outputs": [
    {
     "name": "stderr",
     "output_type": "stream",
     "text": [
      "2022-02-03 22:47:18.901089: W tensorflow/stream_executor/platform/default/dso_loader.cc:64] Could not load dynamic library 'libcuda.so.1'; dlerror: libcuda.so.1: cannot open shared object file: No such file or directory; LD_LIBRARY_PATH: /home/murilo/Code/pyProjects/cat_dog_classification/lib/python3.8/site-packages/cv2/../../lib64:/opt/ThirdParty-8/platforms/linux64Gcc/gperftools-svn/lib:/opt/openfoam8/platforms/linux64GccDPInt32Opt/lib/paraview-5.6:/opt/paraviewopenfoam56/lib:/opt/openfoam8/platforms/linux64GccDPInt32Opt/lib/openmpi-system:/opt/ThirdParty-8/platforms/linux64GccDPInt32/lib/openmpi-system:/usr/lib/x86_64-linux-gnu/openmpi/lib:/home/murilo/OpenFOAM/murilo-8/platforms/linux64GccDPInt32Opt/lib:/opt/site/8/platforms/linux64GccDPInt32Opt/lib:/opt/openfoam8/platforms/linux64GccDPInt32Opt/lib:/opt/ThirdParty-8/platforms/linux64GccDPInt32/lib:/opt/openfoam8/platforms/linux64GccDPInt32Opt/lib/dummy\n",
      "2022-02-03 22:47:18.901139: W tensorflow/stream_executor/cuda/cuda_driver.cc:269] failed call to cuInit: UNKNOWN ERROR (303)\n",
      "2022-02-03 22:47:18.901169: I tensorflow/stream_executor/cuda/cuda_diagnostics.cc:156] kernel driver does not appear to be running on this host (murilo): /proc/driver/nvidia/version does not exist\n",
      "2022-02-03 22:47:18.901497: I tensorflow/core/platform/cpu_feature_guard.cc:151] This TensorFlow binary is optimized with oneAPI Deep Neural Network Library (oneDNN) to use the following CPU instructions in performance-critical operations:  AVX2 FMA\n",
      "To enable them in other operations, rebuild TensorFlow with the appropriate compiler flags.\n"
     ]
    }
   ],
   "source": [
    "from keras.models import Sequential\n",
    "from keras.layers import Dense, Conv2D, MaxPooling2D, Flatten, Dropout, Activation\n",
    "\n",
    "input_shape = (32, 32, 3)\n",
    "model = Sequential()\n",
    "\n",
    "model.add(Conv2D(filters=32, kernel_size=(3,3), input_shape=input_shape, activation='relu'))\n",
    "model.add(MaxPooling2D(pool_size=(2,2)))\n",
    "\n",
    "model.add(Conv2D(filters=64, kernel_size=(3,3), input_shape=input_shape, activation='relu'))\n",
    "model.add(MaxPooling2D(pool_size=(2,2)))\n",
    "\n",
    "model.add(Conv2D(filters=64, kernel_size=(3,3), input_shape=input_shape, activation='relu'))\n",
    "model.add(MaxPooling2D(pool_size=(2,2)))\n",
    "\n",
    "model.add(Flatten())\n",
    "\n",
    "model.add(Dense(128))\n",
    "model.add(Activation('relu'))\n",
    "\n",
    "model.add(Dropout(0.5))\n",
    "\n",
    "model.add(Dense(1))\n",
    "model.add(Activation('sigmoid'))"
   ]
  },
  {
   "cell_type": "code",
   "execution_count": 8,
   "id": "27158287-2d35-41c7-b32d-efe89255b49a",
   "metadata": {},
   "outputs": [],
   "source": [
    "model.compile(optimizer='adam', loss='binary_crossentropy', metrics=['accuracy'])"
   ]
  },
  {
   "cell_type": "code",
   "execution_count": 9,
   "id": "917ab595-0898-4f8a-baaa-9c4639051b01",
   "metadata": {
    "tags": []
   },
   "outputs": [
    {
     "name": "stdout",
     "output_type": "stream",
     "text": [
      "Model: \"sequential\"\n",
      "_________________________________________________________________\n",
      " Layer (type)                Output Shape              Param #   \n",
      "=================================================================\n",
      " conv2d (Conv2D)             (None, 30, 30, 32)        896       \n",
      "                                                                 \n",
      " max_pooling2d (MaxPooling2D  (None, 15, 15, 32)       0         \n",
      " )                                                               \n",
      "                                                                 \n",
      " conv2d_1 (Conv2D)           (None, 13, 13, 64)        18496     \n",
      "                                                                 \n",
      " max_pooling2d_1 (MaxPooling  (None, 6, 6, 64)         0         \n",
      " 2D)                                                             \n",
      "                                                                 \n",
      " conv2d_2 (Conv2D)           (None, 4, 4, 64)          36928     \n",
      "                                                                 \n",
      " max_pooling2d_2 (MaxPooling  (None, 2, 2, 64)         0         \n",
      " 2D)                                                             \n",
      "                                                                 \n",
      " flatten (Flatten)           (None, 256)               0         \n",
      "                                                                 \n",
      " dense (Dense)               (None, 128)               32896     \n",
      "                                                                 \n",
      " activation (Activation)     (None, 128)               0         \n",
      "                                                                 \n",
      " dropout (Dropout)           (None, 128)               0         \n",
      "                                                                 \n",
      " dense_1 (Dense)             (None, 1)                 129       \n",
      "                                                                 \n",
      " activation_1 (Activation)   (None, 1)                 0         \n",
      "                                                                 \n",
      "=================================================================\n",
      "Total params: 89,345\n",
      "Trainable params: 89,345\n",
      "Non-trainable params: 0\n",
      "_________________________________________________________________\n"
     ]
    }
   ],
   "source": [
    "model.summary()"
   ]
  },
  {
   "cell_type": "code",
   "execution_count": 10,
   "id": "5dcde5db-1b1e-459f-a0f8-4e134de3417f",
   "metadata": {},
   "outputs": [
    {
     "name": "stdout",
     "output_type": "stream",
     "text": [
      "Found 5912 images belonging to 2 classes.\n",
      "Found 1478 images belonging to 2 classes.\n"
     ]
    }
   ],
   "source": [
    "batch_size = 25\n",
    "train_image_gen = image_gen.flow_from_directory('./data/pets', \n",
    "                                                subset='training',\n",
    "                                                target_size=input_shape[:2],\n",
    "                                                batch_size = batch_size, \n",
    "                                                class_mode='binary')\n",
    "\n",
    "test_image_gen = image_gen.flow_from_directory('./data/pets', \n",
    "                                               subset='validation',\n",
    "                                               target_size=input_shape[:2],\n",
    "                                               batch_size = batch_size, \n",
    "                                               class_mode='binary')"
   ]
  },
  {
   "cell_type": "code",
   "execution_count": 11,
   "id": "1ded9c03-7924-4410-acd2-cfe30cd85cc1",
   "metadata": {
    "collapsed": true,
    "jupyter": {
     "outputs_hidden": true
    },
    "tags": []
   },
   "outputs": [
    {
     "name": "stdout",
     "output_type": "stream",
     "text": [
      "Epoch 1/50\n",
      "100/100 [==============================] - 11s 108ms/step - loss: 0.6169 - accuracy: 0.6892 - val_loss: 0.6352 - val_accuracy: 0.6533\n",
      "Epoch 2/50\n",
      "100/100 [==============================] - 11s 106ms/step - loss: 0.6102 - accuracy: 0.6704 - val_loss: 0.5938 - val_accuracy: 0.6827\n",
      "Epoch 3/50\n",
      "100/100 [==============================] - 10s 104ms/step - loss: 0.5969 - accuracy: 0.6820 - val_loss: 0.5891 - val_accuracy: 0.6987\n",
      "Epoch 4/50\n",
      "100/100 [==============================] - 11s 107ms/step - loss: 0.5912 - accuracy: 0.6944 - val_loss: 0.5618 - val_accuracy: 0.7120\n",
      "Epoch 5/50\n",
      "100/100 [==============================] - 10s 103ms/step - loss: 0.5770 - accuracy: 0.6856 - val_loss: 0.5821 - val_accuracy: 0.7040\n",
      "Epoch 6/50\n",
      "100/100 [==============================] - 10s 103ms/step - loss: 0.5666 - accuracy: 0.7041 - val_loss: 0.6163 - val_accuracy: 0.7093\n",
      "Epoch 7/50\n",
      "100/100 [==============================] - 10s 103ms/step - loss: 0.5698 - accuracy: 0.7000 - val_loss: 0.6147 - val_accuracy: 0.6853\n",
      "Epoch 8/50\n",
      "100/100 [==============================] - 10s 105ms/step - loss: 0.5649 - accuracy: 0.7101 - val_loss: 0.5570 - val_accuracy: 0.6987\n",
      "Epoch 9/50\n",
      "100/100 [==============================] - 10s 104ms/step - loss: 0.5637 - accuracy: 0.6992 - val_loss: 0.6404 - val_accuracy: 0.6800\n",
      "Epoch 10/50\n",
      "100/100 [==============================] - 10s 104ms/step - loss: 0.5704 - accuracy: 0.7053 - val_loss: 0.5357 - val_accuracy: 0.7573\n",
      "Epoch 11/50\n",
      "100/100 [==============================] - 11s 106ms/step - loss: 0.5549 - accuracy: 0.7209 - val_loss: 0.6276 - val_accuracy: 0.6773\n",
      "Epoch 12/50\n",
      "100/100 [==============================] - 10s 103ms/step - loss: 0.5480 - accuracy: 0.7254 - val_loss: 0.6201 - val_accuracy: 0.6773\n",
      "Epoch 13/50\n",
      "100/100 [==============================] - 11s 106ms/step - loss: 0.5571 - accuracy: 0.7140 - val_loss: 0.5649 - val_accuracy: 0.7067\n",
      "Epoch 14/50\n",
      "100/100 [==============================] - 10s 103ms/step - loss: 0.5435 - accuracy: 0.7316 - val_loss: 0.5700 - val_accuracy: 0.7120\n",
      "Epoch 15/50\n",
      "100/100 [==============================] - 11s 106ms/step - loss: 0.5372 - accuracy: 0.7240 - val_loss: 0.6261 - val_accuracy: 0.7013\n",
      "Epoch 16/50\n",
      "100/100 [==============================] - 11s 106ms/step - loss: 0.5371 - accuracy: 0.7212 - val_loss: 0.5948 - val_accuracy: 0.6853\n",
      "Epoch 17/50\n",
      "100/100 [==============================] - 11s 106ms/step - loss: 0.5439 - accuracy: 0.7316 - val_loss: 0.5591 - val_accuracy: 0.6987\n",
      "Epoch 18/50\n",
      "100/100 [==============================] - 10s 104ms/step - loss: 0.5321 - accuracy: 0.7252 - val_loss: 0.6169 - val_accuracy: 0.6587\n",
      "Epoch 19/50\n",
      "100/100 [==============================] - 10s 104ms/step - loss: 0.5225 - accuracy: 0.7396 - val_loss: 0.5394 - val_accuracy: 0.7147\n",
      "Epoch 20/50\n",
      "100/100 [==============================] - 10s 104ms/step - loss: 0.5399 - accuracy: 0.7288 - val_loss: 0.5719 - val_accuracy: 0.6933\n",
      "Epoch 21/50\n",
      "100/100 [==============================] - 10s 103ms/step - loss: 0.5349 - accuracy: 0.7246 - val_loss: 0.6052 - val_accuracy: 0.6853\n",
      "Epoch 22/50\n",
      "100/100 [==============================] - 11s 106ms/step - loss: 0.5277 - accuracy: 0.7320 - val_loss: 0.5568 - val_accuracy: 0.7227\n",
      "Epoch 23/50\n",
      "100/100 [==============================] - 11s 106ms/step - loss: 0.5132 - accuracy: 0.7380 - val_loss: 0.5973 - val_accuracy: 0.6987\n",
      "Epoch 24/50\n",
      "100/100 [==============================] - 10s 105ms/step - loss: 0.5058 - accuracy: 0.7476 - val_loss: 0.5798 - val_accuracy: 0.7173\n",
      "Epoch 25/50\n",
      "100/100 [==============================] - 11s 106ms/step - loss: 0.5171 - accuracy: 0.7468 - val_loss: 0.5551 - val_accuracy: 0.7173\n",
      "Epoch 26/50\n",
      "100/100 [==============================] - 11s 105ms/step - loss: 0.5362 - accuracy: 0.7352 - val_loss: 0.5890 - val_accuracy: 0.6827\n",
      "Epoch 27/50\n",
      "100/100 [==============================] - 10s 105ms/step - loss: 0.5211 - accuracy: 0.7443 - val_loss: 0.5547 - val_accuracy: 0.6960\n",
      "Epoch 28/50\n",
      "100/100 [==============================] - 10s 104ms/step - loss: 0.5124 - accuracy: 0.7460 - val_loss: 0.6320 - val_accuracy: 0.6560\n",
      "Epoch 29/50\n",
      "100/100 [==============================] - 10s 104ms/step - loss: 0.4958 - accuracy: 0.7636 - val_loss: 0.5566 - val_accuracy: 0.6907\n",
      "Epoch 30/50\n",
      "100/100 [==============================] - 11s 106ms/step - loss: 0.5119 - accuracy: 0.7519 - val_loss: 0.5763 - val_accuracy: 0.7147\n",
      "Epoch 31/50\n",
      "100/100 [==============================] - 11s 105ms/step - loss: 0.4972 - accuracy: 0.7535 - val_loss: 0.5688 - val_accuracy: 0.7173\n",
      "Epoch 32/50\n",
      "100/100 [==============================] - 11s 106ms/step - loss: 0.4858 - accuracy: 0.7604 - val_loss: 0.6002 - val_accuracy: 0.7093\n",
      "Epoch 33/50\n",
      "100/100 [==============================] - 11s 106ms/step - loss: 0.4935 - accuracy: 0.7672 - val_loss: 0.5131 - val_accuracy: 0.7360\n",
      "Epoch 34/50\n",
      "100/100 [==============================] - 11s 105ms/step - loss: 0.4983 - accuracy: 0.7580 - val_loss: 0.4827 - val_accuracy: 0.7600\n",
      "Epoch 35/50\n",
      "100/100 [==============================] - 11s 106ms/step - loss: 0.4760 - accuracy: 0.7692 - val_loss: 0.6224 - val_accuracy: 0.7120\n",
      "Epoch 36/50\n",
      "100/100 [==============================] - 11s 106ms/step - loss: 0.4857 - accuracy: 0.7556 - val_loss: 0.5797 - val_accuracy: 0.6880\n",
      "Epoch 37/50\n",
      "100/100 [==============================] - 11s 105ms/step - loss: 0.4792 - accuracy: 0.7604 - val_loss: 0.6809 - val_accuracy: 0.7067\n",
      "Epoch 38/50\n",
      "100/100 [==============================] - 10s 105ms/step - loss: 0.4753 - accuracy: 0.7628 - val_loss: 0.5140 - val_accuracy: 0.7493\n",
      "Epoch 39/50\n",
      "100/100 [==============================] - 11s 106ms/step - loss: 0.4702 - accuracy: 0.7684 - val_loss: 0.5253 - val_accuracy: 0.7200\n",
      "Epoch 40/50\n",
      "100/100 [==============================] - 10s 105ms/step - loss: 0.4845 - accuracy: 0.7684 - val_loss: 0.5238 - val_accuracy: 0.7147\n",
      "Epoch 41/50\n",
      "100/100 [==============================] - 10s 105ms/step - loss: 0.4748 - accuracy: 0.7820 - val_loss: 0.5947 - val_accuracy: 0.6987\n",
      "Epoch 42/50\n",
      "100/100 [==============================] - 10s 104ms/step - loss: 0.4714 - accuracy: 0.7736 - val_loss: 0.5748 - val_accuracy: 0.6800\n",
      "Epoch 43/50\n",
      "100/100 [==============================] - 11s 105ms/step - loss: 0.4653 - accuracy: 0.7789 - val_loss: 0.5836 - val_accuracy: 0.7280\n",
      "Epoch 44/50\n",
      "100/100 [==============================] - 10s 104ms/step - loss: 0.4651 - accuracy: 0.7837 - val_loss: 0.6155 - val_accuracy: 0.7120\n",
      "Epoch 45/50\n",
      "100/100 [==============================] - 11s 107ms/step - loss: 0.4537 - accuracy: 0.7840 - val_loss: 0.6143 - val_accuracy: 0.7093\n",
      "Epoch 46/50\n",
      "100/100 [==============================] - 11s 113ms/step - loss: 0.4798 - accuracy: 0.7700 - val_loss: 0.5144 - val_accuracy: 0.7440\n",
      "Epoch 47/50\n",
      "100/100 [==============================] - 10s 105ms/step - loss: 0.4723 - accuracy: 0.7740 - val_loss: 0.5936 - val_accuracy: 0.7040\n",
      "Epoch 48/50\n",
      "100/100 [==============================] - 11s 111ms/step - loss: 0.4602 - accuracy: 0.7832 - val_loss: 0.4990 - val_accuracy: 0.7333\n",
      "Epoch 49/50\n",
      "100/100 [==============================] - 11s 106ms/step - loss: 0.4553 - accuracy: 0.7772 - val_loss: 0.5218 - val_accuracy: 0.7307\n",
      "Epoch 50/50\n",
      "100/100 [==============================] - 11s 111ms/step - loss: 0.4600 - accuracy: 0.7849 - val_loss: 0.5595 - val_accuracy: 0.7413\n"
     ]
    }
   ],
   "source": [
    "# results = model.fit(train_image_gen, epochs=50, steps_per_epoch=100, validation_data=test_image_gen, validation_steps=15)"
   ]
  },
  {
   "cell_type": "code",
   "execution_count": 12,
   "id": "6c3ad1cb-f0f1-46a7-accb-02bae1651f6a",
   "metadata": {},
   "outputs": [
    {
     "data": {
      "text/plain": [
       "dict_keys(['loss', 'accuracy', 'val_loss', 'val_accuracy'])"
      ]
     },
     "execution_count": 12,
     "metadata": {},
     "output_type": "execute_result"
    }
   ],
   "source": [
    "accuracy = results.history['accuracy']\n",
    "val_accuracy = results.history['val_accuracy']\n",
    "loss = results.history['loss']\n",
    "val_loss = results.history['loss']\n",
    "results.history.keys()"
   ]
  },
  {
   "cell_type": "code",
   "execution_count": 17,
   "id": "73572100-17ee-419b-9611-183077aa5c68",
   "metadata": {},
   "outputs": [
    {
     "data": {
      "text/plain": [
       "[<matplotlib.lines.Line2D at 0x7feadb5e48b0>]"
      ]
     },
     "execution_count": 17,
     "metadata": {},
     "output_type": "execute_result"
    },
    {
     "data": {
      "image/png": "[encoded data removed]",
      "text/plain": [
       "<Figure size 432x288 with 1 Axes>"
      ]
     },
     "metadata": {
      "needs_background": "light"
     },
     "output_type": "display_data"
    }
   ],
   "source": [
    "plt.plot(results.epoch, accuracy)\n",
    "# plt.plot(results.epoch, val_accuracy)\n",
    "# plt.plot(results.epoch, loss)\n",
    "# plt.plot(results.epoch, val_loss)"
   ]
  },
  {
   "cell_type": "code",
   "execution_count": 77,
   "id": "7a9d3803-c82f-4eec-862e-153dad59afb8",
   "metadata": {},
   "outputs": [
    {
     "data": {
      "text/plain": [
       "array([[0.94304943]], dtype=float32)"
      ]
     },
     "execution_count": 77,
     "metadata": {},
     "output_type": "execute_result"
    }
   ],
   "source": [
    "# import numpy as np\n",
    "# from keras.preprocessing import image\n",
    "# dog_file = './cachorro.jpg'\n",
    "# dog_img = image.load_img(dog_file, target_size=(32, 32))\n",
    "# dog_img = image.img_to_array(dog_img)\n",
    "# dog_img = np.expand_dims(dog_img, axis=0)\n",
    "# dog_img = dog_img/255\n",
    "# prediction_prob = model.predict(dog_img)\n",
    "# prediction_prob"
   ]
  }
 ],
 "metadata": {
  "kernelspec": {
   "display_name": "cat_dog_classification",
   "language": "python",
   "name": "cat_dog_classification"
  },
  "language_info": {
   "codemirror_mode": {
    "name": "ipython",
    "version": 3
   },
   "file_extension": ".py",
   "mimetype": "text/x-python",
   "name": "python",
   "nbconvert_exporter": "python",
   "pygments_lexer": "ipython3",
   "version": "3.8.10"
  }
 },
 "nbformat": 4,
 "nbformat_minor": 5
}
